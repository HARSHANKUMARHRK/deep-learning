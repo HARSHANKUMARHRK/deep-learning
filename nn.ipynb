{
 "cells": [
  {
   "cell_type": "code",
   "execution_count": 3,
   "id": "c9dff846-e672-4b03-ad89-a6577b0f8582",
   "metadata": {},
   "outputs": [],
   "source": [
    "import numpy as np"
   ]
  },
  {
   "cell_type": "code",
   "execution_count": 4,
   "id": "2c9c02ee-fb4d-4800-a169-f6b1afd99077",
   "metadata": {},
   "outputs": [],
   "source": [
    "x=np.array(([2,9],[1,5],[3,6]),dtype=float)\n",
    "y=np.array(([45],[67],[98]),dtype=float)"
   ]
  },
  {
   "cell_type": "code",
   "execution_count": 5,
   "id": "f6702352-1822-4383-981d-a1d1d78fef28",
   "metadata": {},
   "outputs": [],
   "source": [
    "x=x/np.amax(x,axis=0)"
   ]
  },
  {
   "cell_type": "code",
   "execution_count": 6,
   "id": "0c8991c9-4fe2-4caa-91f2-73ab67983180",
   "metadata": {},
   "outputs": [
    {
     "data": {
      "text/plain": [
       "array([[0.66666667, 1.        ],\n",
       "       [0.33333333, 0.55555556],\n",
       "       [1.        , 0.66666667]])"
      ]
     },
     "execution_count": 6,
     "metadata": {},
     "output_type": "execute_result"
    }
   ],
   "source": [
    "x"
   ]
  },
  {
   "cell_type": "code",
   "execution_count": 7,
   "id": "f52160ab-b13a-49c8-948f-5e5949190015",
   "metadata": {},
   "outputs": [],
   "source": [
    "y=y/100"
   ]
  },
  {
   "cell_type": "code",
   "execution_count": 8,
   "id": "d2cf9504-ac3d-438f-9b0f-d8f7396b9a2e",
   "metadata": {},
   "outputs": [],
   "source": [
    "def sigmoid(x):\n",
    "    return 1/(1+np.exp(-x))"
   ]
  },
  {
   "cell_type": "code",
   "execution_count": 9,
   "id": "37884729-0056-40e6-ad4c-71072651a4ac",
   "metadata": {},
   "outputs": [],
   "source": [
    "def derivatives(x):\n",
    "    return x(1-x)"
   ]
  },
  {
   "cell_type": "code",
   "execution_count": 10,
   "id": "2bf95c34-38de-4ee5-8ad1-05cfcb7b300e",
   "metadata": {},
   "outputs": [],
   "source": [
    "epoch=5\n",
    "lr=0.1"
   ]
  },
  {
   "cell_type": "code",
   "execution_count": 11,
   "id": "56078aa2-52c7-409b-afbc-fdf667d852f2",
   "metadata": {},
   "outputs": [],
   "source": [
    "inp_layer=2\n",
    "hidden_layer=3\n",
    "out_layer=1\n"
   ]
  },
  {
   "cell_type": "code",
   "execution_count": null,
   "id": "e7f301db-f3fc-4d70-bf1f-07851f4a3bde",
   "metadata": {},
   "outputs": [],
   "source": []
  }
 ],
 "metadata": {
  "kernelspec": {
   "display_name": "Python 3 (ipykernel)",
   "language": "python",
   "name": "python3"
  },
  "language_info": {
   "codemirror_mode": {
    "name": "ipython",
    "version": 3
   },
   "file_extension": ".py",
   "mimetype": "text/x-python",
   "name": "python",
   "nbconvert_exporter": "python",
   "pygments_lexer": "ipython3",
   "version": "3.10.0"
  }
 },
 "nbformat": 4,
 "nbformat_minor": 5
}
