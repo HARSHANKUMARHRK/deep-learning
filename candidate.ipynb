{
 "cells": [
  {
   "cell_type": "code",
   "execution_count": null,
   "id": "44881379-f6d1-4702-8e54-bcf1038a74e2",
   "metadata": {},
   "outputs": [],
   "source": [
    "import csv\n",
    "with open(\"candidate.csv\")as f:\n",
    "    reader=csv.reader(f)\n",
    "    data=list(reader)\n",
    "    s=data[1][:-1]\n",
    "    g=[[\"?\" for i in range(len(s))]for j in range(len(s))]\n",
    "    for i in data:\n",
    "        if(i[-1]==\"Yes\"):\n",
    "            j=0\n",
    "            for j in range(len(s)):\n",
    "                \n",
    "                if(i[j]!=s[j]):\n",
    "                    s[j]=\"?\"\n",
    "                    g[j][j]=\"?\"\n",
    "        elif(i[-1]==\"No\"):\n",
    "            for j in range(len(s)):\n",
    "                if(i[j]!=s[j]):\n",
    "                    \n",
    "                    g[j][j]=s[j]\n",
    "                else:\n",
    "                    g[j][j]=\"?\"\n",
    "        print(\"\\nsteps of candidate elimination algorithm \",data.index(i)+1)\n",
    "        print(s)\n",
    "        print(g)\n",
    "    gh=[]\n",
    "    for i in g:\n",
    "        for j in i:\n",
    "            if(j!=\"?\"):\n",
    "                gh.append(i)\n",
    "                break\n",
    "    print(\"specified hypothesis\",s)\n",
    "    print(\"general hypothesis\",g)\n",
    "        \n",
    "            "
   ]
  },
  {
   "cell_type": "code",
   "execution_count": null,
   "id": "49c35c1c-3d88-4648-8a01-a5f38c94fb5b",
   "metadata": {},
   "outputs": [],
   "source": [
    "import csv\n",
    "with open(\"candidate.csv\")as f:\n",
    "    reader=csv.reader(f)\n",
    "    data=list(reader)\n",
    "    s=data[1][:-1]\n",
    "    g=[[\"?\" for i in range(len(s))]for j in range(len(s))]\n",
    "    for i in data:\n",
    "        if(i[-1]==\"yes\"):\n",
    "            j=0\n",
    "            for j in range(len(s)):\n",
    "                if(i[j]!=s[j]):\n",
    "                    s[j]=\"?\"\n",
    "                    g[j][j]=\"?\"\n",
    "        elif(i[-1]==\"No\"):\n",
    "            for j in range(len(s)):\n",
    "                if(i[j]!=s[j]):\n",
    "                    g[j][j]=s[j]\n",
    "                else:\n",
    "                    g[j][j]=\"?\"\n",
    "        print(\"\\n steps for canddate elimination\",data.index(i)+1)\n",
    "        print(s)\n",
    "        print(g)\n",
    "        \n",
    "    gh=[]\n",
    "    for i in g:\n",
    "        for j in i:\n",
    "            if(j!=\"?\"):\n",
    "                gh.append(j"
   ]
  },
  {
   "cell_type": "code",
   "execution_count": null,
   "id": "6364eb2d-7773-4824-b9c9-07736f1c1f1e",
   "metadata": {},
   "outputs": [],
   "source": [
    "5+5"
   ]
  },
  {
   "cell_type": "code",
   "execution_count": null,
   "id": "2a7aa9e6-9ab4-4c85-9b39-c9aa29a5c502",
   "metadata": {},
   "outputs": [],
   "source": []
  }
 ],
 "metadata": {
  "kernelspec": {
   "display_name": "Python 3 (ipykernel)",
   "language": "python",
   "name": "python3"
  },
  "language_info": {
   "codemirror_mode": {
    "name": "ipython",
    "version": 3
   },
   "file_extension": ".py",
   "mimetype": "text/x-python",
   "name": "python",
   "nbconvert_exporter": "python",
   "pygments_lexer": "ipython3",
   "version": "3.10.0"
  }
 },
 "nbformat": 4,
 "nbformat_minor": 5
}
