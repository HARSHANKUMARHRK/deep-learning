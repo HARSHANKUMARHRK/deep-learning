{
 "cells": [
  {
   "cell_type": "code",
   "execution_count": 2,
   "id": "ec4a61ba-4889-4b17-9b99-6d67e5479ad8",
   "metadata": {},
   "outputs": [],
   "source": [
    "import numpy as np"
   ]
  },
  {
   "cell_type": "code",
   "execution_count": 3,
   "id": "940d7fda-503f-48c9-90bb-2e9c3f5c6a06",
   "metadata": {},
   "outputs": [],
   "source": [
    "x=np.array(([2,9],[1,5],[3,6]),dtype=float)\n",
    "y=np.array(([92],[86],[89]),dtype=float)\n",
    "x=x/np.amax(x,axis=0)\n",
    "y=y/100"
   ]
  },
  {
   "cell_type": "code",
   "execution_count": 4,
   "id": "b76644d7-ff06-4caa-9c2e-59f7c3ea66f5",
   "metadata": {},
   "outputs": [],
   "source": [
    "def sigmoid(x):\n",
    "    return 1/(1+np.exp(-x))"
   ]
  },
  {
   "cell_type": "code",
   "execution_count": 12,
   "id": "5e5c82fd-9af9-4ab7-a903-b817a67d99b5",
   "metadata": {},
   "outputs": [],
   "source": [
    "def derived_sigmoid(x):\n",
    "    return x*(1-x)"
   ]
  },
  {
   "cell_type": "code",
   "execution_count": 6,
   "id": "bd2e6d33-d61d-454e-b083-6a4fa1fe2e28",
   "metadata": {},
   "outputs": [],
   "source": [
    "epoch=5\n",
    "lr=0.1"
   ]
  },
  {
   "cell_type": "code",
   "execution_count": 7,
   "id": "630262f8-e7e5-4376-90fa-0553b6181bdd",
   "metadata": {},
   "outputs": [],
   "source": [
    "input_layer=2\n",
    "hidden_layer=3\n",
    "output_layer=1"
   ]
  },
  {
   "cell_type": "code",
   "execution_count": 8,
   "id": "05ecb610-a991-4c6b-8553-689f064d5ce6",
   "metadata": {},
   "outputs": [],
   "source": [
    "wh=np.random.uniform(size=(input_layer,hidden_layer))\n",
    "bh=np.random.uniform(size=(1,hidden_layer))\n",
    "wout=np.random.uniform(size=(hidden_layer,output_layer))\n",
    "bout=np.random.uniform(size=(1,output_layer))"
   ]
  },
  {
   "cell_type": "code",
   "execution_count": 13,
   "id": "b21a4d14-5761-4141-918c-2dd1680237ac",
   "metadata": {},
   "outputs": [
    {
     "ename": "ValueError",
     "evalue": "shapes (3,3) and (1,3) not aligned: 3 (dim 1) != 1 (dim 0)",
     "output_type": "error",
     "traceback": [
      "\u001b[0;31m---------------------------------------------------------------------------\u001b[0m",
      "\u001b[0;31mValueError\u001b[0m                                Traceback (most recent call last)",
      "Cell \u001b[0;32mIn [13], line 14\u001b[0m\n\u001b[1;32m     12\u001b[0m outgrad\u001b[38;5;241m=\u001b[39mderived_sigmoid(output)\n\u001b[1;32m     13\u001b[0m d_output\u001b[38;5;241m=\u001b[39meo\u001b[38;5;241m*\u001b[39moutgrad\n\u001b[0;32m---> 14\u001b[0m eh\u001b[38;5;241m=\u001b[39m\u001b[43md_output\u001b[49m\u001b[38;5;241;43m.\u001b[39;49m\u001b[43mdot\u001b[49m\u001b[43m(\u001b[49m\u001b[43mwout\u001b[49m\u001b[38;5;241;43m.\u001b[39;49m\u001b[43mT\u001b[49m\u001b[43m)\u001b[49m\n\u001b[1;32m     15\u001b[0m hiddengrad\u001b[38;5;241m=\u001b[39mderivatives_sigmoid(h_act)\n\u001b[1;32m     16\u001b[0m d_hidden\u001b[38;5;241m=\u001b[39meh\u001b[38;5;241m*\u001b[39mhiddengrad\n",
      "\u001b[0;31mValueError\u001b[0m: shapes (3,3) and (1,3) not aligned: 3 (dim 1) != 1 (dim 0)"
     ]
    }
   ],
   "source": [
    "for i in range(epoch):\n",
    "    #forward prop\n",
    "    hinp1=np.dot(x,wh)\n",
    "    hinp=hinp1+bh\n",
    "    h_act=sigmoid(hinp)\n",
    "    outinp1=np.dot(h_act,h_act)\n",
    "    outinp=outinp1+bout\n",
    "    output=sigmoid(outinp)\n",
    "    \n",
    "    \n",
    "    eo=y-output\n",
    "    outgrad=derived_sigmoid(output)\n",
    "    d_output=eo*outgrad\n",
    "    eh=d_output.dot(wout.T)\n",
    "    hiddengrad=derivatives_sigmoid(h_act)\n",
    "    d_hidden=eh*hiddengrad\n",
    "    wout+=h_act.T.dot(d_output)*lr\n",
    "    wh+=x.T.dot(d_hiddenlayer)*lr\n",
    "    print(\"---------------------epoch-\",i+1,\"starts--------------------\")\n",
    "    print(\"input\",str(x))\n",
    "    print(\"actual out\",str(y))\n",
    "    print(\"predicted\",output)\n",
    "    print(\"----------------------epoch_end------------------------------\")"
   ]
  },
  {
   "cell_type": "code",
   "execution_count": 1,
   "id": "ca1a810e-cdb6-4ab7-86bc-31d02fa86a86",
   "metadata": {},
   "outputs": [
    {
     "name": "stdout",
     "output_type": "stream",
     "text": [
      "----------------------------epoch- 1 starts------------------------\n",
      "Input: \n",
      "[[0.66666667 1.        ]\n",
      " [0.33333333 0.55555556]\n",
      " [1.         0.66666667]]\n",
      "Actual Output: \n",
      "[[0.92]\n",
      " [0.86]\n",
      " [0.89]]\n",
      "Predicted Output: \n",
      " [[0.74063131]\n",
      " [0.73110506]\n",
      " [0.73769951]]\n",
      "----------------------------epoch- 1 ends------------------------\n",
      "----------------------------epoch- 2 starts------------------------\n",
      "Input: \n",
      "[[0.66666667 1.        ]\n",
      " [0.33333333 0.55555556]\n",
      " [1.         0.66666667]]\n",
      "Actual Output: \n",
      "[[0.92]\n",
      " [0.86]\n",
      " [0.89]]\n",
      "Predicted Output: \n",
      " [[0.74591511]\n",
      " [0.7361986 ]\n",
      " [0.74299295]]\n",
      "----------------------------epoch- 2 ends------------------------\n",
      "----------------------------epoch- 3 starts------------------------\n",
      "Input: \n",
      "[[0.66666667 1.        ]\n",
      " [0.33333333 0.55555556]\n",
      " [1.         0.66666667]]\n",
      "Actual Output: \n",
      "[[0.92]\n",
      " [0.86]\n",
      " [0.89]]\n",
      "Predicted Output: \n",
      " [[0.75088789]\n",
      " [0.74099851]\n",
      " [0.74797605]]\n",
      "----------------------------epoch- 3 ends------------------------\n",
      "----------------------------epoch- 4 starts------------------------\n",
      "Input: \n",
      "[[0.66666667 1.        ]\n",
      " [0.33333333 0.55555556]\n",
      " [1.         0.66666667]]\n",
      "Actual Output: \n",
      "[[0.92]\n",
      " [0.86]\n",
      " [0.89]]\n",
      "Predicted Output: \n",
      " [[0.75557532]\n",
      " [0.74552866]\n",
      " [0.75267432]]\n",
      "----------------------------epoch- 4 ends------------------------\n",
      "----------------------------epoch- 5 starts------------------------\n",
      "Input: \n",
      "[[0.66666667 1.        ]\n",
      " [0.33333333 0.55555556]\n",
      " [1.         0.66666667]]\n",
      "Actual Output: \n",
      "[[0.92]\n",
      " [0.86]\n",
      " [0.89]]\n",
      "Predicted Output: \n",
      " [[0.76000048]\n",
      " [0.74981054]\n",
      " [0.75711073]]\n",
      "----------------------------epoch- 5 ends------------------------\n",
      "Input: \n",
      "[[0.66666667 1.        ]\n",
      " [0.33333333 0.55555556]\n",
      " [1.         0.66666667]]\n",
      "Actual Output: \n",
      "[[0.92]\n",
      " [0.86]\n",
      " [0.89]]\n",
      "Predicted Output: \n",
      " [[0.76000048]\n",
      " [0.74981054]\n",
      " [0.75711073]]\n"
     ]
    }
   ],
   "source": [
    "import numpy as np\n",
    "\n",
    "X = np.array(([2, 9], [1, 5], [3, 6]), dtype=float)\n",
    "y = np.array(([92], [86], [89]), dtype=float)\n",
    "X = X / np.amax(X, axis=0)  # maximum of X array longitudinally\n",
    "y = y / 100\n",
    "\n",
    "\n",
    "# Sigmoid Function\n",
    "def sigmoid(x):\n",
    "    return 1 / (1 + np.exp(-x))\n",
    "\n",
    "\n",
    "# Derivative of Sigmoid Function\n",
    "def derivatives_sigmoid(x):\n",
    "    return x * (1 - x)\n",
    "\n",
    "\n",
    "# Variable initialization\n",
    "epoch = 5  # Setting training iterations\n",
    "lr = 0.1  # Setting learning rate\n",
    "inputlayer_neurons = 2  # number of features in data set\n",
    "hiddenlayer_neurons = 3  # number of hidden layers neurons\n",
    "output_neurons = 1  # number of neurons at output layer\n",
    "# weight and bias initialization\n",
    "wh = np.random.uniform(size=(inputlayer_neurons, hiddenlayer_neurons))\n",
    "bh = np.random.uniform(size=(1, hiddenlayer_neurons))\n",
    "wout = np.random.uniform(size=(hiddenlayer_neurons, output_neurons))\n",
    "bout = np.random.uniform(size=(1, output_neurons))\n",
    "# draws a random range of numbers uniformly of dim x*y\n",
    "for i in range(epoch):\n",
    "    # Forward Propogation\n",
    "    hinp1 = np.dot(X, wh)\n",
    "    hinp = hinp1 + bh\n",
    "    hlayer_act = sigmoid(hinp)\n",
    "    outinp1 = np.dot(hlayer_act, wout)\n",
    "    outinp = outinp1 + bout\n",
    "    output = sigmoid(outinp)\n",
    "    # Backpropagation\n",
    "    EO = y - output\n",
    "    outgrad = derivatives_sigmoid(output)\n",
    "    d_output = EO * outgrad\n",
    "    EH = d_output.dot(wout.T)\n",
    "    hiddengrad = derivatives_sigmoid(hlayer_act)\n",
    "    d_hiddenlayer = EH * hiddengrad\n",
    "    wout += hlayer_act.T.dot(d_output) * lr\n",
    "    bout += np.sum(d_output, axis=0,keepdims=True) *lr\n",
    "    wh += X.T.dot(d_hiddenlayer) * lr\n",
    "    bh += np.sum(d_hiddenlayer, axis=0,keepdims=True) *lr\n",
    "    print(\"----------------------------epoch-\",i+1,\"starts------------------------\")\n",
    "    print(\"Input: \\n\" + str(X))\n",
    "    print(\"Actual Output: \\n\" + str(y))\n",
    "    print(\"Predicted Output: \\n\", output)\n",
    "    print(\"----------------------------epoch-\",i+1,\"ends------------------------\")\n",
    "print(\"Input: \\n\" + str(X))\n",
    "print(\"Actual Output: \\n\" + str(y))\n",
    "print(\"Predicted Output: \\n\", output)\n"
   ]
  },
  {
   "cell_type": "code",
   "execution_count": 13,
   "id": "03521bd4-b7bb-4a31-bd49-6de963956b27",
   "metadata": {},
   "outputs": [
    {
     "name": "stdout",
     "output_type": "stream",
     "text": [
      "----------------------------epoch- 1 starts-------------------------------------------\n",
      "input\n",
      " [[0.33333333 0.42857143]\n",
      " [0.5        0.57142857]\n",
      " [1.         1.        ]]\n",
      "output\n",
      " [[0.98]\n",
      " [0.99]\n",
      " [0.93]]\n",
      "----------------------------epoch- 2 starts-------------------------------------------\n",
      "input\n",
      " [[0.33333333 0.42857143]\n",
      " [0.5        0.57142857]\n",
      " [1.         1.        ]]\n",
      "output\n",
      " [[0.98]\n",
      " [0.99]\n",
      " [0.93]]\n",
      "----------------------------epoch- 3 starts-------------------------------------------\n",
      "input\n",
      " [[0.33333333 0.42857143]\n",
      " [0.5        0.57142857]\n",
      " [1.         1.        ]]\n",
      "output\n",
      " [[0.98]\n",
      " [0.99]\n",
      " [0.93]]\n",
      "----------------------------epoch- 4 starts-------------------------------------------\n",
      "input\n",
      " [[0.33333333 0.42857143]\n",
      " [0.5        0.57142857]\n",
      " [1.         1.        ]]\n",
      "output\n",
      " [[0.98]\n",
      " [0.99]\n",
      " [0.93]]\n",
      "----------------------------epoch- 5 starts-------------------------------------------\n",
      "input\n",
      " [[0.33333333 0.42857143]\n",
      " [0.5        0.57142857]\n",
      " [1.         1.        ]]\n",
      "output\n",
      " [[0.98]\n",
      " [0.99]\n",
      " [0.93]]\n",
      "----------------------------epoch- 6 starts-------------------------------------------\n",
      "input\n",
      " [[0.33333333 0.42857143]\n",
      " [0.5        0.57142857]\n",
      " [1.         1.        ]]\n",
      "output\n",
      " [[0.98]\n",
      " [0.99]\n",
      " [0.93]]\n"
     ]
    }
   ],
   "source": [
    "import numpy as np\n",
    "x=np.array(([2,3],[3,4],[6,7]),dtype=float)\n",
    "y=np.array(([98],[99],[93]),dtype=float)\n",
    "x=x/np.amax(x,axis=0)\n",
    "y=y/100\n",
    "def sigmoid(x):\n",
    "    return 1/(1+np.exp(-x))\n",
    "def derivatives(x):\n",
    "    return x*(1-x)\n",
    "epoch=6\n",
    "lr=0.1\n",
    "inp_layer=2\n",
    "hidden_layer=3\n",
    "out_layer=1\n",
    "wh=np.random.uniform(size=(inp_layer,hidden_layer))\n",
    "bh=np.random.uniform(size=(1,hidden_layer))\n",
    "wout=np.random.uniform(size=(hidden_layer,out_layer))\n",
    "bout=np.random.uniform(size=(1,out_layer))\n",
    "for i in range(epoch):\n",
    "    hinp1=np.dot(x,wh)\n",
    "    hinp=hinp1+bh\n",
    "    hact_layer=sigmoid(hinp)\n",
    "    outinp1=np.dot(hact_layer,wout)\n",
    "    outinp=outinp1+bout\n",
    "    output=sigmoid(outinp)\n",
    "    \n",
    "    \n",
    "    eo=y-output\n",
    "    outguard=derivatives(output)\n",
    "    d_out=eo*outguard\n",
    "    eh=d_out.dot(wout.T)\n",
    "    hiddengrad=derivatives(hact_layer)\n",
    "    wout+=hact_layer.dot(d_out)*lr\n",
    "    wh+=x.T.dot(hiddengrad)*lr\n",
    "    print(\"----------------------------epoch-\",i+1,\"starts-------------------------------------------\")\n",
    "    print(\"input\\n\",str(x))\n",
    "    print(\"output\\n\",str(y))\n",
    "    "
   ]
  },
  {
   "cell_type": "code",
   "execution_count": 3,
   "id": "a409740e-e2b1-40f4-9a80-153ef901f0e8",
   "metadata": {},
   "outputs": [],
   "source": [
    "y=np.array(([98],[99],[93]),dtype=float)\n",
    "x=x/np.amax(x,axis=0)\n",
    "y=y/100x=np.array(([2,3],[3,4],[6,7]),dtype=float)"
   ]
  },
  {
   "cell_type": "code",
   "execution_count": 4,
   "id": "0c24614a-446a-44f9-86f5-222fb63d3d82",
   "metadata": {},
   "outputs": [],
   "source": [
    "y=np.array(([98],[99],[93]),dtype=float)\n",
    "x=x/np.amax(x,axis=0)\n",
    "y=y/100"
   ]
  },
  {
   "cell_type": "code",
   "execution_count": 5,
   "id": "9b73d350-a0f5-4d7c-91f3-89ef51d14b54",
   "metadata": {},
   "outputs": [],
   "source": [
    "def sigmoid(x):\n",
    "    return 1/(1+np.exp(-x))"
   ]
  },
  {
   "cell_type": "code",
   "execution_count": 6,
   "id": "4ee0eaa1-cb4a-4e36-9c91-6ec99e52fa0a",
   "metadata": {},
   "outputs": [],
   "source": [
    "def derivatives(x):\n",
    "    return x(1-x)\n"
   ]
  },
  {
   "cell_type": "code",
   "execution_count": 7,
   "id": "083dbfcb-12ad-4fd8-8f75-571b39f56520",
   "metadata": {},
   "outputs": [],
   "source": [
    "epoch=6\n",
    "lr=0.1\n"
   ]
  },
  {
   "cell_type": "code",
   "execution_count": 8,
   "id": "065df251-db4d-44ff-af50-b40a497b2ca1",
   "metadata": {},
   "outputs": [],
   "source": [
    "inp_layer=2\n",
    "hidden_layer=3\n",
    "out_layer=1"
   ]
  },
  {
   "cell_type": "code",
   "execution_count": 9,
   "id": "ddc6df5a-5655-4b34-828e-ec947f6ca215",
   "metadata": {},
   "outputs": [],
   "source": [
    "wh=np.random.uniform(size=(inp_layer,hidden_layer))\n",
    "bh=np.random.uniform(size=(1,hidden_layer))\n",
    "wout=np.random.uniform(size=(hidden_layer,out_layer))\n",
    "bout=np.random.uniform(size=(1,out_layer))"
   ]
  },
  {
   "cell_type": "code",
   "execution_count": 10,
   "id": "d2aaa341-f37d-4021-b09c-4ee3b5781c9a",
   "metadata": {},
   "outputs": [
    {
     "ename": "TypeError",
     "evalue": "'numpy.ndarray' object is not callable",
     "output_type": "error",
     "traceback": [
      "\u001b[0;31m---------------------------------------------------------------------------\u001b[0m",
      "\u001b[0;31mTypeError\u001b[0m                                 Traceback (most recent call last)",
      "Cell \u001b[0;32mIn [10], line 11\u001b[0m\n\u001b[1;32m      7\u001b[0m output\u001b[38;5;241m=\u001b[39msigmoid(outinp)\n\u001b[1;32m     10\u001b[0m eo\u001b[38;5;241m=\u001b[39my\u001b[38;5;241m-\u001b[39moutput\n\u001b[0;32m---> 11\u001b[0m outguard\u001b[38;5;241m=\u001b[39m\u001b[43mderivatives\u001b[49m\u001b[43m(\u001b[49m\u001b[43moutput\u001b[49m\u001b[43m)\u001b[49m\n\u001b[1;32m     12\u001b[0m d_out\u001b[38;5;241m=\u001b[39meo\u001b[38;5;241m*\u001b[39moutguard\n\u001b[1;32m     13\u001b[0m eh\u001b[38;5;241m=\u001b[39md_out\u001b[38;5;241m.\u001b[39mdot(wout\u001b[38;5;241m.\u001b[39mT)\n",
      "Cell \u001b[0;32mIn [6], line 2\u001b[0m, in \u001b[0;36mderivatives\u001b[0;34m(x)\u001b[0m\n\u001b[1;32m      1\u001b[0m \u001b[38;5;28;01mdef\u001b[39;00m \u001b[38;5;21mderivatives\u001b[39m(x):\n\u001b[0;32m----> 2\u001b[0m     \u001b[38;5;28;01mreturn\u001b[39;00m \u001b[43mx\u001b[49m\u001b[43m(\u001b[49m\u001b[38;5;241;43m1\u001b[39;49m\u001b[38;5;241;43m-\u001b[39;49m\u001b[43mx\u001b[49m\u001b[43m)\u001b[49m\n",
      "\u001b[0;31mTypeError\u001b[0m: 'numpy.ndarray' object is not callable"
     ]
    }
   ],
   "source": [
    "for i in range(epoch):\n",
    "    hinp1=np.dot(x,wh)\n",
    "    hinp=hinp1+bh\n",
    "    hact_layer=sigmoid(hinp)\n",
    "    outinp1=np.dot(hact_layer,wout)\n",
    "    outinp=outinp1+bout\n",
    "    output=sigmoid(outinp)\n",
    "    \n",
    "    \n",
    "    eo=y-output\n",
    "    outguard=derivatives(output)\n",
    "    d_out=eo*outguard\n",
    "    eh=d_out.dot(wout.T)\n",
    "    hiddengrad=derivatives(hact_layer)\n",
    "    wout+=hact_layer.dot(d_out)*lr\n",
    "    wh+=x.T.dot(hiddenguard)*lr\n",
    "    print(\"----------------------------epoch-\",i+1,\"starts-------------------------------------------\")\n",
    "    print(\"input\\n\",str(x))\n",
    "    print(\"output\\n\",str(y))\n",
    "    "
   ]
  },
  {
   "cell_type": "code",
   "execution_count": null,
   "id": "0bfcce3c-b865-4d18-83a6-f54e1c3a4c9f",
   "metadata": {},
   "outputs": [],
   "source": []
  }
 ],
 "metadata": {
  "kernelspec": {
   "display_name": "Python 3 (ipykernel)",
   "language": "python",
   "name": "python3"
  },
  "language_info": {
   "codemirror_mode": {
    "name": "ipython",
    "version": 3
   },
   "file_extension": ".py",
   "mimetype": "text/x-python",
   "name": "python",
   "nbconvert_exporter": "python",
   "pygments_lexer": "ipython3",
   "version": "3.10.0"
  }
 },
 "nbformat": 4,
 "nbformat_minor": 5
}
