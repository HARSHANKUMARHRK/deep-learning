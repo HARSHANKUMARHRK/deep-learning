{
 "cells": [
  {
   "cell_type": "code",
   "execution_count": 1,
   "id": "95c6a5f5-b610-4255-b480-a70902898730",
   "metadata": {},
   "outputs": [],
   "source": [
    "import math"
   ]
  },
  {
   "cell_type": "code",
   "execution_count": 2,
   "id": "0a21b45e-18ed-46b8-973e-7fbd873d9508",
   "metadata": {},
   "outputs": [],
   "source": [
    "#sigmoid function formulae\n",
    "#it will return output from 0 to 1 \n",
    "def sigmoid(x):\n",
    "    return 1/(1+math.exp(-x))"
   ]
  },
  {
   "cell_type": "code",
   "execution_count": 4,
   "id": "d1bed081-732f-4ad7-8f67-c8c13a710bd9",
   "metadata": {},
   "outputs": [
    {
     "data": {
      "text/plain": [
       "2.0611536181902037e-09"
      ]
     },
     "execution_count": 4,
     "metadata": {},
     "output_type": "execute_result"
    }
   ],
   "source": [
    "#if we input negative value it is nearly equal to 1\n",
    "sigmoid(-20)"
   ]
  },
  {
   "cell_type": "code",
   "execution_count": 5,
   "id": "1b469ccd-eb91-4786-8740-52b82539336b",
   "metadata": {},
   "outputs": [
    {
     "data": {
      "text/plain": [
       "0.9525741268224334"
      ]
     },
     "execution_count": 5,
     "metadata": {},
     "output_type": "execute_result"
    }
   ],
   "source": [
    "#if we pass positive value it will return the value btwn 0 to 1\n",
    "sigmoid(3)"
   ]
  },
  {
   "cell_type": "code",
   "execution_count": 6,
   "id": "2a729771-28b0-4d61-8d1a-61c4ded92ce0",
   "metadata": {},
   "outputs": [],
   "source": [
    "#tanh function formulae\n",
    "#it will return result btwn -1 to 1\n",
    "def tanh(x):\n",
    "    return (math.exp(x)-math.exp(-x))/(math.exp(x)+math.exp(-x))"
   ]
  },
  {
   "cell_type": "code",
   "execution_count": 7,
   "id": "a7dae5f3-8cee-4b27-a822-faff301bcc9e",
   "metadata": {},
   "outputs": [
    {
     "data": {
      "text/plain": [
       "-1.0"
      ]
     },
     "execution_count": 7,
     "metadata": {},
     "output_type": "execute_result"
    }
   ],
   "source": [
    "tanh(-50)"
   ]
  },
  {
   "cell_type": "code",
   "execution_count": 8,
   "id": "e49b6fec-5c90-487b-917f-d6184a5bcf61",
   "metadata": {},
   "outputs": [
    {
     "data": {
      "text/plain": [
       "0.9950547536867306"
      ]
     },
     "execution_count": 8,
     "metadata": {},
     "output_type": "execute_result"
    }
   ],
   "source": [
    "tanh(3)"
   ]
  },
  {
   "cell_type": "code",
   "execution_count": 9,
   "id": "ee5b91b4-0735-43da-9360-f11709ec7356",
   "metadata": {},
   "outputs": [],
   "source": [
    "#relu function formulae\n",
    "#it will return result as range btwn 0 to x\n",
    "def relu(x):\n",
    "    return max(0,x)\n"
   ]
  },
  {
   "cell_type": "code",
   "execution_count": 10,
   "id": "c7261c03-9d21-4734-9664-4ae0e60d6b7f",
   "metadata": {},
   "outputs": [
    {
     "data": {
      "text/plain": [
       "0"
      ]
     },
     "execution_count": 10,
     "metadata": {},
     "output_type": "execute_result"
    }
   ],
   "source": [
    "relu(-19)"
   ]
  },
  {
   "cell_type": "code",
   "execution_count": 11,
   "id": "867aeee5-867d-4e09-8246-df9b1449ed7b",
   "metadata": {},
   "outputs": [
    {
     "data": {
      "text/plain": [
       "87"
      ]
     },
     "execution_count": 11,
     "metadata": {},
     "output_type": "execute_result"
    }
   ],
   "source": [
    "relu(87)"
   ]
  },
  {
   "cell_type": "code",
   "execution_count": 12,
   "id": "43c4158c-a2d8-4e23-8a96-cfa847e3fa2e",
   "metadata": {},
   "outputs": [],
   "source": [
    "#leaky relu fuction formulae\n",
    "def leaky_relu(x):\n",
    "    return max(0.1*x,x)"
   ]
  },
  {
   "cell_type": "code",
   "execution_count": 13,
   "id": "5ca4f76c-eb50-461e-8c1a-78a83f19d46b",
   "metadata": {},
   "outputs": [
    {
     "data": {
      "text/plain": [
       "-9.0"
      ]
     },
     "execution_count": 13,
     "metadata": {},
     "output_type": "execute_result"
    }
   ],
   "source": [
    "leaky_relu(-90)"
   ]
  },
  {
   "cell_type": "code",
   "execution_count": 14,
   "id": "ba37d040-46cc-4ef7-8ce3-6e152e1d720d",
   "metadata": {},
   "outputs": [
    {
     "data": {
      "text/plain": [
       "34"
      ]
     },
     "execution_count": 14,
     "metadata": {},
     "output_type": "execute_result"
    }
   ],
   "source": [
    "leaky_relu(34)"
   ]
  },
  {
   "cell_type": "code",
   "execution_count": null,
   "id": "250fe7ee-ebe0-446d-937c-aa46db92c93a",
   "metadata": {},
   "outputs": [],
   "source": []
  }
 ],
 "metadata": {
  "kernelspec": {
   "display_name": "Python 3 (ipykernel)",
   "language": "python",
   "name": "python3"
  },
  "language_info": {
   "codemirror_mode": {
    "name": "ipython",
    "version": 3
   },
   "file_extension": ".py",
   "mimetype": "text/x-python",
   "name": "python",
   "nbconvert_exporter": "python",
   "pygments_lexer": "ipython3",
   "version": "3.10.0"
  }
 },
 "nbformat": 4,
 "nbformat_minor": 5
}
