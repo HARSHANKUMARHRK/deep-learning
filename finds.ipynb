{
 "cells": [
  {
   "cell_type": "code",
   "execution_count": 4,
   "id": "aedf922f-8d6b-42ce-8d79-d1c6364a0cc2",
   "metadata": {},
   "outputs": [
    {
     "name": "stdout",
     "output_type": "stream",
     "text": [
      "[['sunny', 'warm', 'normal', 'strong', 'warm', 'same', 'TRUE'], ['sunny', 'warm', 'high', 'strong', 'warm', 'same', 'TRUE'], ['rainy', 'cold', 'high', 'strong', 'warm', 'change', 'FALSE'], ['sunny', 'warm', 'high', 'strong', 'warm', 'change', 'TRUE']]\n"
     ]
    }
   ],
   "source": [
    "import csv\n",
    "with open('playgame.csv','r') as f:\n",
    "    reader=csv.reader(f)\n",
    "    your_list=list(reader)\n",
    "print(your_list)"
   ]
  },
  {
   "cell_type": "code",
   "execution_count": 5,
   "id": "25a2a7ca-3c18-43a1-9b4b-0004fa996f21",
   "metadata": {},
   "outputs": [
    {
     "name": "stdout",
     "output_type": "stream",
     "text": [
      "for the training sample 0\n",
      "the hypothesis is: [['sunny', 'warm', 'normal', 'strong', 'warm', 'same']]\n",
      "the maximally specific hypothesis is [['sunny', 'warm', 'normal', 'strong', 'warm', 'same']]\n",
      "for the training sample 1\n",
      "the hypothesis is: [['sunny', 'warm', '?', 'strong', 'warm', 'same']]\n",
      "the maximally specific hypothesis is [['sunny', 'warm', '?', 'strong', 'warm', 'same']]\n",
      "for the training sample 2\n",
      "the maximally specific hypothesis is [['sunny', 'warm', '?', 'strong', 'warm', 'same']]\n",
      "for the training sample 2\n",
      "the hypothesis is: [['sunny', 'warm', '?', 'strong', 'warm', '?']]\n",
      "the maximally specific hypothesis is [['sunny', 'warm', '?', 'strong', 'warm', '?']]\n"
     ]
    }
   ],
   "source": [
    "k=0\n",
    "h=[['0','0','0','0','0','0']]\n",
    "for i in your_list:\n",
    "    print(\"for the training sample\",k)\n",
    "    if i[-1]==\"TRUE\":\n",
    "        j=0\n",
    "        for x in i:\n",
    "            if x!=\"TRUE\":\n",
    "                if x!=h[0][j] and h[0][j]=='0':\n",
    "                    h[0][j]=x\n",
    "                elif x!=h[0][j] and h[0][j]!='0':\n",
    "                    h[0][j]='?'\n",
    "            j=j+1\n",
    "        k=k+1\n",
    "        print(\"the hypothesis is:\",h)\n",
    "    print(\"the maximally specific hypothesis is\",h)"
   ]
  },
  {
   "cell_type": "code",
   "execution_count": null,
   "id": "47d15989-c6d2-4f1a-b82d-d08f59a37ecb",
   "metadata": {},
   "outputs": [],
   "source": []
  }
 ],
 "metadata": {
  "kernelspec": {
   "display_name": "Python 3 (ipykernel)",
   "language": "python",
   "name": "python3"
  },
  "language_info": {
   "codemirror_mode": {
    "name": "ipython",
    "version": 3
   },
   "file_extension": ".py",
   "mimetype": "text/x-python",
   "name": "python",
   "nbconvert_exporter": "python",
   "pygments_lexer": "ipython3",
   "version": "3.10.0"
  }
 },
 "nbformat": 4,
 "nbformat_minor": 5
}
