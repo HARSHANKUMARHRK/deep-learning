{
 "cells": [
  {
   "cell_type": "code",
   "execution_count": 1,
   "id": "5b632212-f461-4f1b-ab1e-f13c67a35f00",
   "metadata": {},
   "outputs": [],
   "source": [
    "import numpy as np"
   ]
  },
  {
   "cell_type": "code",
   "execution_count": 2,
   "id": "2b991695-48ab-4e36-a5d4-eaab2cacf580",
   "metadata": {},
   "outputs": [],
   "source": [
    "a=np.array([1,2,3])\n",
    "b=np.array([4,5,6])"
   ]
  },
  {
   "cell_type": "code",
   "execution_count": 3,
   "id": "4626aac1-c4a2-4120-bf83-d61e34d29c30",
   "metadata": {},
   "outputs": [
    {
     "data": {
      "text/plain": [
       "32"
      ]
     },
     "execution_count": 3,
     "metadata": {},
     "output_type": "execute_result"
    }
   ],
   "source": [
    "np.inner(a,b)"
   ]
  },
  {
   "cell_type": "code",
   "execution_count": 4,
   "id": "e1837a5b-5f8f-4a20-a4e8-9d78ed54b256",
   "metadata": {},
   "outputs": [
    {
     "data": {
      "text/plain": [
       "numpy.matrix"
      ]
     },
     "execution_count": 4,
     "metadata": {},
     "output_type": "execute_result"
    }
   ],
   "source": [
    "c=np.matrix([[1,2,3],[2,4,6]])\n",
    "type(c)"
   ]
  },
  {
   "cell_type": "code",
   "execution_count": 5,
   "id": "c6197f31-97b5-4f73-b1f1-a82cb87205c5",
   "metadata": {},
   "outputs": [
    {
     "data": {
      "text/plain": [
       "matrix([[1, 2],\n",
       "        [2, 4],\n",
       "        [3, 6]])"
      ]
     },
     "execution_count": 5,
     "metadata": {},
     "output_type": "execute_result"
    }
   ],
   "source": [
    "np.transpose(c)"
   ]
  },
  {
   "cell_type": "code",
   "execution_count": 13,
   "id": "63d57626-6da5-4586-8a31-b1fbe4b0964d",
   "metadata": {},
   "outputs": [
    {
     "data": {
      "text/plain": [
       "-30.000000000000014"
      ]
     },
     "execution_count": 13,
     "metadata": {},
     "output_type": "execute_result"
    }
   ],
   "source": [
    "m=np.array([[1,2,3],[3,5,4],[9,8,7]])\n",
    "det=np.linalg.det(m)\n",
    "det"
   ]
  },
  {
   "cell_type": "code",
   "execution_count": 14,
   "id": "ba70963a-3591-439e-9e69-ec7f4fe4f154",
   "metadata": {},
   "outputs": [
    {
     "data": {
      "text/plain": [
       "array([[-0.1       , -0.33333333,  0.23333333],\n",
       "       [-0.5       ,  0.66666667, -0.16666667],\n",
       "       [ 0.7       , -0.33333333,  0.03333333]])"
      ]
     },
     "execution_count": 14,
     "metadata": {},
     "output_type": "execute_result"
    }
   ],
   "source": [
    "np.linalg.inv(m)"
   ]
  },
  {
   "cell_type": "code",
   "execution_count": 16,
   "id": "db0767e8-99a0-4838-a04a-04296cfdb09e",
   "metadata": {},
   "outputs": [],
   "source": [
    "w,v=np.linalg.eig(m)"
   ]
  },
  {
   "cell_type": "code",
   "execution_count": 17,
   "id": "a7e23725-de70-4580-9558-b82b66f45b48",
   "metadata": {},
   "outputs": [
    {
     "data": {
      "text/plain": [
       "array([14.1240384, -2.1240384,  1.       ])"
      ]
     },
     "execution_count": 17,
     "metadata": {},
     "output_type": "execute_result"
    }
   ],
   "source": [
    "w"
   ]
  },
  {
   "cell_type": "code",
   "execution_count": 18,
   "id": "2ec7f29b-eaf9-4ede-a874-d65c93691f62",
   "metadata": {},
   "outputs": [
    {
     "data": {
      "text/plain": [
       "array([[-0.26386292, -0.62669709,  0.34684399],\n",
       "       [-0.45873861, -0.16385061, -0.78039897],\n",
       "       [-0.84848998,  0.76184233,  0.52026598]])"
      ]
     },
     "execution_count": 18,
     "metadata": {},
     "output_type": "execute_result"
    }
   ],
   "source": [
    "v"
   ]
  },
  {
   "cell_type": "code",
   "execution_count": null,
   "id": "5c06020c-7ed3-4d72-a659-f7b0b1e41cc0",
   "metadata": {},
   "outputs": [],
   "source": []
  }
 ],
 "metadata": {
  "kernelspec": {
   "display_name": "Python 3 (ipykernel)",
   "language": "python",
   "name": "python3"
  },
  "language_info": {
   "codemirror_mode": {
    "name": "ipython",
    "version": 3
   },
   "file_extension": ".py",
   "mimetype": "text/x-python",
   "name": "python",
   "nbconvert_exporter": "python",
   "pygments_lexer": "ipython3",
   "version": "3.10.0"
  }
 },
 "nbformat": 4,
 "nbformat_minor": 5
}
