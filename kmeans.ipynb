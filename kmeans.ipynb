{
 "cells": [
  {
   "cell_type": "code",
   "execution_count": null,
   "id": "66c1f838-51b9-46db-978e-7a096d260923",
   "metadata": {},
   "outputs": [],
   "source": [
    "import numpy as np\n",
    "import matplotlib.pyplot as plt\n",
    "from sklearn import datasets\n",
    "from sklearn.cluster import KMeans\n",
    "from sklearn.mixture import GaussianMixture\n",
    "from sklearn.metrics import confusion_matrix\n"
   ]
  },
  {
   "cell_type": "code",
   "execution_count": null,
   "id": "9525b7bf-0730-4523-a0fb-58c72d727591",
   "metadata": {},
   "outputs": [],
   "source": [
    "iris = datasets.load_iris()\n",
    "X = iris.data[:, :2]  \n",
    "y_true = iris.target"
   ]
  },
  {
   "cell_type": "code",
   "execution_count": null,
   "id": "904dbcb3-ed6f-451b-8f0a-ff91e4c1d7e9",
   "metadata": {},
   "outputs": [],
   "source": [
    "kmeans = KMeans(n_clusters=3)\n",
    "y_kmeans = kmeans.fit_predict(X)\n",
    "\n",
    "plt.scatter(X[:, 0], y_kmeans, c=y_true, cmap='viridis')\n",
    "plt.title('K-means Clustering')\n",
    "plt.show()"
   ]
  },
  {
   "cell_type": "code",
   "execution_count": null,
   "id": "edb78342-2d28-408d-b4a4-1d25cae8fadb",
   "metadata": {},
   "outputs": [],
   "source": [
    "gmm = GaussianMixture(n_components=3)\n",
    "y_gmm = gmm.fit_predict(X)\n",
    "\n",
    "plt.scatter(X[:, 0], X[:, 1], c=y_gmm, cmap='viridis')\n",
    "plt.title('Gaussian Mixture Model Clustering')\n",
    "plt.show()"
   ]
  },
  {
   "cell_type": "code",
   "execution_count": null,
   "id": "79ad6a5c-c171-40ab-a305-b91cdb965b76",
   "metadata": {},
   "outputs": [],
   "source": [
    "print('K-means Confusion Matrix:')\n",
    "print(confusion_matrix(y_true, y_kmeans))\n",
    "c1=confusion_matrix(y_true, y_kmeans)\n",
    "import seaborn as sns\n",
    "sns.heatmap(c1,annot=True)\n",
    "\n"
   ]
  },
  {
   "cell_type": "code",
   "execution_count": null,
   "id": "0a956e2a-0fe2-445e-961c-6316f9cb0c5a",
   "metadata": {},
   "outputs": [],
   "source": [
    "print('Gaussian Mixture Model Confusion Matrix:')\n",
    "print(confusion_matrix(y_true, y_gmm))\n",
    "c2=confusion_matrix(y_true, y_gmm)\n",
    "sns.heatmap(c2,annot=True)"
   ]
  },
  {
   "cell_type": "code",
   "execution_count": null,
   "id": "221f34de-6e10-4025-9e24-34e952466162",
   "metadata": {},
   "outputs": [],
   "source": [
    "import matplotlib.pyplot as plt\n",
    "import pandas as pd\n",
    "import numpy as np\n",
    "\n",
    "def kernel(point, xmat, k):\n",
    "    m,n = np.shape(xmat)\n",
    "    weights = np.mat(np.eye((m)))\n",
    "    for j in range(m):\n",
    "        diff = point - xmat[j]\n",
    "        weights[j,j] = np.exp(diff*diff.T/(-2.0*k**2))\n",
    "    return weights\n",
    "\n",
    "def localWeight(point, xmat, ymat, k):\n",
    "    wei = kernel(point, xmat, k)\n",
    "    W = (xmat.T * (wei * xmat)).I * (xmat.T * (wei * ymat.T))\n",
    "    return W\n",
    "     \n",
    "def localWeightRegression(xmat, ymat, k):\n",
    "    m,n = np.shape(xmat)\n",
    "    ypred = np.zeros(m)\n",
    "    for i in range(m):\n",
    "        ypred[i] = xmat[i] * localWeight(xmat[i], xmat, ymat, k)\n",
    "    return ypred\n",
    "       \n",
    "# load data points\n",
    "data = pd.read_csv('hotel.csv')\n",
    "bill = np.array(data.total_bill)\n",
    "tip = np.array(data.tip)\n",
    " \n",
    "#preparing and add 1 in bill\n",
    "mbill = np.mat(bill)\n",
    "mtip = np.mat(tip)\n",
    "\n",
    "m = np.shape(mbill)[1]\n",
    "one = np.mat(np.ones(m))\n",
    "X = np.hstack((one.T, mbill.T))\n",
    "\n",
    "# set k here\n",
    "ypred = localWeightRegression(X, mtip, 0.5)\n",
    "SortIndex = X[:,1].argsort(0)\n",
    "xsort = X[SortIndex][:,0]\n",
    "\n",
    "fig = plt.figure()\n",
    "ax = fig.add_subplot(1,1,1)\n",
    "ax.scatter(bill, tip, color='green')\n",
    "ax.plot(xsort[:,1], ypred[SortIndex], color='red', linewidth=5)\n",
    "plt.xlabel('Total bill')\n",
    "plt.ylabel('Tip')\n",
    "plt.show();\n"
   ]
  },
  {
   "cell_type": "code",
   "execution_count": null,
   "id": "997610f4-1ecd-4235-84ee-78be503f0a38",
   "metadata": {},
   "outputs": [],
   "source": []
  },
  {
   "cell_type": "code",
   "execution_count": null,
   "id": "a2c038cc-584c-41c1-9277-066c0247dc3a",
   "metadata": {},
   "outputs": [],
   "source": []
  },
  {
   "cell_type": "code",
   "execution_count": null,
   "id": "4a961eab-28df-49f2-930d-b8a47a3df579",
   "metadata": {},
   "outputs": [],
   "source": []
  },
  {
   "cell_type": "code",
   "execution_count": null,
   "id": "2653f23b-f4a4-47d3-b4b1-0204180dfbc9",
   "metadata": {},
   "outputs": [],
   "source": []
  },
  {
   "cell_type": "code",
   "execution_count": null,
   "id": "16f257b2-acee-4a9b-b03f-754a39bf4e8a",
   "metadata": {},
   "outputs": [],
   "source": []
  },
  {
   "cell_type": "code",
   "execution_count": null,
   "id": "503cf103-e724-4987-becb-56248c81e0b5",
   "metadata": {},
   "outputs": [],
   "source": []
  },
  {
   "cell_type": "code",
   "execution_count": null,
   "id": "706ec0b4-fd3d-4a8a-adfa-e4bc95b08f3b",
   "metadata": {},
   "outputs": [],
   "source": []
  },
  {
   "cell_type": "code",
   "execution_count": null,
   "id": "3a98fd2f-3e12-4b16-b096-dacb85a95281",
   "metadata": {},
   "outputs": [],
   "source": []
  },
  {
   "cell_type": "code",
   "execution_count": null,
   "id": "eaa2fe8d-7c79-4846-a60a-e02d52325bf7",
   "metadata": {},
   "outputs": [],
   "source": []
  },
  {
   "cell_type": "code",
   "execution_count": null,
   "id": "675d7004-60e8-4a36-93cf-180a75db0fbc",
   "metadata": {},
   "outputs": [],
   "source": []
  },
  {
   "cell_type": "code",
   "execution_count": null,
   "id": "ded025a8-b056-4d51-9144-5d7d82ac2965",
   "metadata": {},
   "outputs": [],
   "source": []
  }
 ],
 "metadata": {
  "kernelspec": {
   "display_name": "Python 3 (ipykernel)",
   "language": "python",
   "name": "python3"
  },
  "language_info": {
   "codemirror_mode": {
    "name": "ipython",
    "version": 3
   },
   "file_extension": ".py",
   "mimetype": "text/x-python",
   "name": "python",
   "nbconvert_exporter": "python",
   "pygments_lexer": "ipython3",
   "version": "3.10.0"
  }
 },
 "nbformat": 4,
 "nbformat_minor": 5
}
