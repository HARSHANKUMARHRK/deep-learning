{
 "cells": [
  {
   "cell_type": "code",
   "execution_count": null,
   "id": "5afbe970-f192-4e14-b290-f5d415c44ae1",
   "metadata": {},
   "outputs": [],
   "source": []
  }
 ],
 "metadata": {
  "kernelspec": {
   "display_name": "",
   "name": ""
  },
  "language_info": {
   "name": ""
  }
 },
 "nbformat": 4,
 "nbformat_minor": 5
}
